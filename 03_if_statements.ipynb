{
  "nbformat": 4,
  "nbformat_minor": 0,
  "metadata": {
    "colab": {
      "provenance": [],
      "authorship_tag": "ABX9TyO+pKIMZSsXQ0+EqmByyhVi",
      "include_colab_link": true
    },
    "kernelspec": {
      "name": "python3",
      "display_name": "Python 3"
    },
    "language_info": {
      "name": "python"
    }
  },
  "cells": [
    {
      "cell_type": "markdown",
      "metadata": {
        "id": "view-in-github",
        "colab_type": "text"
      },
      "source": [
        "<a href=\"https://colab.research.google.com/github/misbahjahangir/Assignment_4_colab/blob/main/03_if_statements.ipynb\" target=\"_parent\"><img src=\"https://colab.research.google.com/assets/colab-badge.svg\" alt=\"Open In Colab\"/></a>"
      ]
    },
    {
      "cell_type": "code",
      "execution_count": null,
      "metadata": {
        "id": "By6YknJ5aGXs"
      },
      "outputs": [],
      "source": [
        "# Print the first 20 even numbers starting from 0\n",
        "for i in range(20):\n",
        "    even_number = i * 2\n",
        "    print(even_number, end=' ')"
      ]
    },
    {
      "cell_type": "code",
      "source": [
        "# Ask the user for their age\n",
        "age = int(input(\"How old are you? \"))\n",
        "\n",
        "# Voting ages for the fictional countries\n",
        "peturksbouipo_age = 16\n",
        "stanlau_age = 25\n",
        "mayengua_age = 48\n",
        "\n",
        "# Check voting eligibility for each country\n",
        "if age >= peturksbouipo_age:\n",
        "    print(f\"You can vote in Peturksbouipo where the voting age is {peturksbouipo_age}.\")\n",
        "else:\n",
        "    print(f\"You cannot vote in Peturksbouipo where the voting age is {peturksbouipo_age}.\")\n",
        "\n",
        "if age >= stanlau_age:\n",
        "    print(f\"You can vote in Stanlau where the voting age is {stanlau_age}.\")\n",
        "else:\n",
        "    print(f\"You cannot vote in Stanlau where the voting age is {stanlau_age}.\")\n",
        "\n",
        "if age >= mayengua_age:\n",
        "    print(f\"You can vote in Mayengua where the voting age is {mayengua_age}.\")\n",
        "else:\n",
        "    print(f\"You cannot vote in Mayengua where the voting age is {mayengua_age}.\")\n"
      ],
      "metadata": {
        "id": "gF9zhiqNaiVg"
      },
      "execution_count": null,
      "outputs": []
    },
    {
      "cell_type": "code",
      "source": [
        "# Ask the user to input a year\n",
        "year = int(input(\"Enter a year: \"))\n",
        "\n",
        "# Check if the year is a leap year\n",
        "if (year % 4 == 0 and year % 100 != 0) or (year % 400 == 0):\n",
        "    print(\"That's a leap year!\")\n",
        "else:\n",
        "    print(\"That's not a leap year.\")\n"
      ],
      "metadata": {
        "id": "jP2kQ8U4aoKn"
      },
      "execution_count": null,
      "outputs": []
    },
    {
      "cell_type": "code",
      "source": [
        "# Ask the user how tall they are\n",
        "height = int(input(\"How tall are you? \"))\n",
        "\n",
        "# Minimum height requirement for the ride\n",
        "min_height = 50\n",
        "\n",
        "# Check if the user is tall enough to ride\n",
        "if height >= min_height:\n",
        "    print(\"You're tall enough to ride!\")\n",
        "else:\n",
        "    print(\"You're not tall enough to ride, but maybe next year!\")"
      ],
      "metadata": {
        "id": "ikcxH7C6a6-z"
      },
      "execution_count": null,
      "outputs": []
    },
    {
      "cell_type": "code",
      "source": [
        "import random\n",
        "\n",
        "# Generate and print 10 random numbers in the range 1 to 100\n",
        "for _ in range(10):\n",
        "    print(random.randint(1, 100), end=' ')"
      ],
      "metadata": {
        "id": "6pdDVgjfa_sw"
      },
      "execution_count": null,
      "outputs": []
    }
  ]
}