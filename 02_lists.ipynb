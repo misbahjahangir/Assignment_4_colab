{
  "nbformat": 4,
  "nbformat_minor": 0,
  "metadata": {
    "colab": {
      "provenance": [],
      "authorship_tag": "ABX9TyMClq47Mm01lJ6m3VPTI3Jw",
      "include_colab_link": true
    },
    "kernelspec": {
      "name": "python3",
      "display_name": "Python 3"
    },
    "language_info": {
      "name": "python"
    }
  },
  "cells": [
    {
      "cell_type": "markdown",
      "metadata": {
        "id": "view-in-github",
        "colab_type": "text"
      },
      "source": [
        "<a href=\"https://colab.research.google.com/github/misbahjahangir/Assignment_4_colab/blob/main/02_lists.ipynb\" target=\"_parent\"><img src=\"https://colab.research.google.com/assets/colab-badge.svg\" alt=\"Open In Colab\"/></a>"
      ]
    },
    {
      "cell_type": "code",
      "execution_count": null,
      "metadata": {
        "id": "Fp8wOUutYYC-"
      },
      "outputs": [],
      "source": [
        "def add_many_numbers(numbers)-> int:\n",
        "    \"\"\"\n",
        "    Takes in a list of numbers and returns the sum of those numbers.\n",
        "    \"\"\"\n",
        "\n",
        "    total_so_far: int = 0\n",
        "    for number in numbers:\n",
        "        total_so_far += number\n",
        "\n",
        "    return total_so_far\n",
        "\n",
        "\n",
        "\n",
        "def main():\n",
        "    numbers: list[int] = [1, 2, 3, 4, 5]\n",
        "    sum_of_numbers: int = add_many_numbers(numbers)\n",
        "    print(sum_of_numbers)\n",
        "main()"
      ]
    },
    {
      "cell_type": "code",
      "source": [
        "def double_elements(numbers):\n",
        "    return[num * 2 for num in numbers]\n",
        "\n",
        "numbers=[1, 2, 3, 4]\n",
        "doubled_numbers = double_elements(numbers)\n",
        "print(\"Doubled list:\" , doubled_numbers)\n",
        "\n",
        "double_elements()"
      ],
      "metadata": {
        "id": "F0DpZo-xZDyQ"
      },
      "execution_count": null,
      "outputs": []
    },
    {
      "cell_type": "code",
      "source": [
        "import tkinter as tk\n",
        "\n",
        "CELL_SIZE = 40\n",
        "GRID_ROWS = 10\n",
        "GRID_COLS = 10\n",
        "ERASER_SIZE = 60\n",
        "\n",
        "class EraserCanvasApp:\n",
        "    def __init__(self, root):\n",
        "        self.root = root\n",
        "        self.root.title(\"Canvas Eraser\")\n",
        "\n",
        "        self.canvas = tk.Canvas(root, width=GRID_COLS*CELL_SIZE, height=GRID_ROWS*CELL_SIZE, bg=\"white\")\n",
        "        self.canvas.pack()\n",
        "\n",
        "        self.cells = []\n",
        "        self.create_grid()\n",
        "\n",
        "        self.eraser = self.canvas.create_rectangle(0, 0, ERASER_SIZE, ERASER_SIZE, fill=\"gray\", outline=\"black\", stipple=\"gray25\")\n",
        "        self.canvas.bind(\"<B1-Motion>\", self.move_eraser)\n",
        "\n",
        "    def create_grid(self):\n",
        "        for row in range(GRID_ROWS):\n",
        "            row_cells = []\n",
        "            for col in range(GRID_COLS):\n",
        "                x1 = col * CELL_SIZE\n",
        "                y1 = row * CELL_SIZE\n",
        "                x2 = x1 + CELL_SIZE\n",
        "                y2 = y1 + CELL_SIZE\n",
        "                cell = self.canvas.create_rectangle(x1, y1, x2, y2, fill=\"blue\", outline=\"black\")\n",
        "                row_cells.append(cell)\n",
        "            self.cells.append(row_cells)\n",
        "\n",
        "    def move_eraser(self, event):\n",
        "        x1 = event.x - ERASER_SIZE // 2\n",
        "        y1 = event.y - ERASER_SIZE // 2\n",
        "        x2 = event.x + ERASER_SIZE // 2\n",
        "        y2 = event.y + ERASER_SIZE // 2\n",
        "        self.canvas.coords(self.eraser, x1, y1, x2, y2)\n",
        "\n",
        "        overlapping = self.canvas.find_overlapping(x1, y1, x2, y2)\n",
        "        for item in overlapping:\n",
        "            if item != self.eraser:\n",
        "                self.canvas.itemconfig(item, fill=\"white\")\n",
        "\n",
        "# Run the application\n",
        "if __name__ == \"__main__\":\n",
        "    root = tk.Tk()\n",
        "    app = EraserCanvasApp(root)\n",
        "    root.mainloop()"
      ],
      "metadata": {
        "id": "kFp1qwAVZO9W"
      },
      "execution_count": null,
      "outputs": []
    },
    {
      "cell_type": "code",
      "source": [
        "def add_three_copies(my_list, data):\n",
        "    for _ in range(3):\n",
        "        my_list.append(data)\n",
        "\n",
        "# --- Test code below ---\n",
        "\n",
        "# Take input from the user\n",
        "message = input(\"Enter a message to copy: \")\n",
        "\n",
        "# Initialize an empty list\n",
        "messages = []\n",
        "\n",
        "print(\"List before:\", messages)\n",
        "\n",
        "# Call the function — we are NOT returning anything\n",
        "add_three_copies(messages, message)\n",
        "\n",
        "print(\"List after:\", messages)\n",
        "\n",
        "add_three_copies()"
      ],
      "metadata": {
        "id": "p4iPIjI5ZVqs"
      },
      "execution_count": null,
      "outputs": []
    },
    {
      "cell_type": "code",
      "source": [
        "def get_first_element(lst):\n",
        "    print(\"First element:\", lst[0])\n",
        "\n",
        "# --- Code to get list input from user ---\n",
        "num_elements = int(input(\"How many elements do you want to enter? \"))\n",
        "\n",
        "user_list = []\n",
        "for i in range(num_elements):\n",
        "    item = input(f\"Enter element #{i + 1}: \")\n",
        "    user_list.append(item)\n",
        "\n",
        "# Call the function\n",
        "get_first_element(user_list)\n",
        "get_first_element()"
      ],
      "metadata": {
        "id": "HeTc_zfqZZiP"
      },
      "execution_count": null,
      "outputs": []
    },
    {
      "cell_type": "code",
      "source": [
        "def get_last_element(lst):\n",
        "    print(\"Last element:\", lst[-1])\n",
        "\n",
        "# --- Example usage with user input ---\n",
        "num_elements = int(input(\"How many elements do you want to enter? \"))\n",
        "\n",
        "user_list = []\n",
        "for i in range(num_elements):\n",
        "    item = input(f\"Enter element #{i + 1}: \")\n",
        "    user_list.append(item)\n",
        "\n",
        "# Call the function\n",
        "get_last_element(user_list)\n",
        "get_last_element()"
      ],
      "metadata": {
        "id": "xGBQeGfGZfhh"
      },
      "execution_count": null,
      "outputs": []
    },
    {
      "cell_type": "code",
      "source": [
        "values = []\n",
        "\n",
        "while True:\n",
        "    user_input = input(\"Enter a value: \")\n",
        "    if user_input == \"\":\n",
        "        break\n",
        "    values.append(user_input)\n",
        "\n",
        "print(\"Here's the list:\", values)"
      ],
      "metadata": {
        "id": "f10qEeqWZnxm"
      },
      "execution_count": null,
      "outputs": []
    },
    {
      "cell_type": "code",
      "source": [
        "MAX_LENGTH = 3\n",
        "\n",
        "def shorten(lst):\n",
        "    while len(lst) > MAX_LENGTH:\n",
        "        removed_item = lst.pop()  # removes last item\n",
        "        print(\"Removed:\", removed_item)\n",
        "\n",
        "def main():\n",
        "    # Get a list from user input\n",
        "    values = []\n",
        "    print(\"Enter values one by one. Press enter to stop.\")\n",
        "    while True:\n",
        "        item = input(\"Enter a value: \")\n",
        "        if item == \"\":\n",
        "            break\n",
        "        values.append(item)\n",
        "\n",
        "    print(\"Original list:\", values)\n",
        "    shorten(values)\n",
        "    print(\"Shortened list:\", values)\n",
        "\n",
        "# Run the main function\n",
        "main()\n"
      ],
      "metadata": {
        "id": "V6KgmAXiZu_X"
      },
      "execution_count": null,
      "outputs": []
    }
  ]
}