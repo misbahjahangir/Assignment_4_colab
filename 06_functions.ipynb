{
  "nbformat": 4,
  "nbformat_minor": 0,
  "metadata": {
    "colab": {
      "provenance": [],
      "authorship_tag": "ABX9TyPxIKQJrMXcOsMjdSmIrn3R",
      "include_colab_link": true
    },
    "kernelspec": {
      "name": "python3",
      "display_name": "Python 3"
    },
    "language_info": {
      "name": "python"
    }
  },
  "cells": [
    {
      "cell_type": "markdown",
      "metadata": {
        "id": "view-in-github",
        "colab_type": "text"
      },
      "source": [
        "<a href=\"https://colab.research.google.com/github/misbahjahangir/Assignment_4_colab/blob/main/06_functions.ipynb\" target=\"_parent\"><img src=\"https://colab.research.google.com/assets/colab-badge.svg\" alt=\"Open In Colab\"/></a>"
      ]
    },
    {
      "cell_type": "code",
      "execution_count": null,
      "metadata": {
        "id": "1PbfFJXQlbwE"
      },
      "outputs": [],
      "source": [
        "def find_average(num1, num2):\n",
        "    average = (num1 + num2) / 2\n",
        "    return average\n",
        "# Function call example\n",
        "result = find_average(10, 20)\n",
        "print(\"The average is:\", result)"
      ]
    },
    {
      "cell_type": "code",
      "source": [
        "import random\n",
        "# You can tweak this to change how likely done() is to return True\n",
        "DONE_LIKELIHOOD = 0.2\n",
        "\n",
        "def done():\n",
        "    return random.random() < DONE_LIKELIHOOD\n",
        "\n",
        "def chaotic_counting():\n",
        "    for i in range(1, 11):\n",
        "        if done():\n",
        "            return\n",
        "        print(i, end=' ')\n",
        "\n",
        "def main():\n",
        "    print(\"I'm going to count until 10 or until I feel like stopping, whichever comes first.\")\n",
        "    chaotic_counting()\n",
        "    print(\"I'm done.\")\n",
        "\n",
        "if __name__ == \"__main__\":\n",
        "    main()"
      ],
      "metadata": {
        "id": "NneBlnWqlzMq"
      },
      "execution_count": null,
      "outputs": []
    },
    {
      "cell_type": "code",
      "source": [
        "def count_even(lst=None):\n",
        "    if lst is None:\n",
        "        lst = []\n",
        "        while True:\n",
        "            user_input = input(\"Enter an integer or press enter to stop: \")\n",
        "            if user_input == \"\":\n",
        "                break\n",
        "            try:\n",
        "                num = int(user_input)\n",
        "                lst.append(num)\n",
        "            except ValueError:\n",
        "                print(\"Please enter a valid integer.\")\n",
        "\n",
        "    even_count = sum(1 for num in lst if num % 2 == 0)\n",
        "    print(f\"Number of even numbers: {even_count}\")\n",
        "\n",
        "count_even()"
      ],
      "metadata": {
        "id": "xA3BweuJl3vo"
      },
      "execution_count": null,
      "outputs": []
    },
    {
      "cell_type": "code",
      "source": [
        "def double(num):\n",
        "    return num * 2\n",
        "\n",
        "def main():\n",
        "    user_input = input(\"Enter a number: \")\n",
        "    try:\n",
        "        number = float(user_input)\n",
        "        result = double(number)\n",
        "        print(f\"Double that is {result}\")\n",
        "    except ValueError:\n",
        "        print(\"Please enter a valid number.\")\n",
        "\n",
        "main()\n"
      ],
      "metadata": {
        "id": "uDKSseyFl_y5"
      },
      "execution_count": null,
      "outputs": []
    },
    {
      "cell_type": "code",
      "source": [
        "def get_name():\n",
        "    return \"Sophia\"\n",
        "\n",
        "def main():\n",
        "    name = get_name()\n",
        "    print(f\"Howdy {name} ! 🤠\")\n",
        "\n",
        "\n",
        "main()"
      ],
      "metadata": {
        "id": "eJ7_g1b6mFxL"
      },
      "execution_count": null,
      "outputs": []
    },
    {
      "cell_type": "code",
      "source": [
        "def even_odd_printer():\n",
        "    for i in range(10, 20):\n",
        "        if i % 2 == 0:\n",
        "            print(f\"{i} even\", end=' ')\n",
        "        else:\n",
        "            print(f\"{i} odd\", end=' ')\n",
        "\n",
        "even_odd_printer()\n"
      ],
      "metadata": {
        "id": "XNPauJEgmKCn"
      },
      "execution_count": null,
      "outputs": []
    },
    {
      "cell_type": "code",
      "source": [
        "def print_divisors(num):\n",
        "    print(f\"Here are the divisors of {num}\")\n",
        "    for i in range(1, num + 1):\n",
        "        if num % i == 0:\n",
        "            print(i, end=' ')\n",
        "\n",
        "def main():\n",
        "    user_input = input(\"Enter a number: \")\n",
        "    try:\n",
        "        number = int(user_input)\n",
        "        print_divisors(number)\n",
        "    except ValueError:\n",
        "        print(\"Please enter a valid integer.\")\n",
        "\n",
        "main()\n"
      ],
      "metadata": {
        "id": "72xbPUwmmOGF"
      },
      "execution_count": null,
      "outputs": []
    },
    {
      "cell_type": "code",
      "source": [
        "def print_multiple(message, repeats):\n",
        "    for _ in range(repeats):\n",
        "        print(message, end=' ')\n",
        "\n",
        "def main():\n",
        "    message = input(\"Please type a message: \")\n",
        "    repeats = int(input(\"Enter a number of times to repeat your message: \"))\n",
        "    print_multiple(message, repeats)\n",
        "\n",
        "\n",
        "main()"
      ],
      "metadata": {
        "id": "QFBcKHhcmPHK"
      },
      "execution_count": null,
      "outputs": []
    },
    {
      "cell_type": "code",
      "source": [
        "def make_sentence(word, part_of_speech):\n",
        "    if part_of_speech == 0:\n",
        "        print(f\"I am excited to add this {word} to my vast collection of them!\")\n",
        "    elif part_of_speech == 1:\n",
        "        print(f\"It's so nice outside today it makes me want to {word}!\")\n",
        "    elif part_of_speech == 2:\n",
        "        print(f\"Looking out my window, the sky is big and {word}!\")\n",
        "\n",
        "def main():\n",
        "    word = input(\"Please type a noun, verb, or adjective: \")\n",
        "    part_of_speech = int(input(\"Is this a noun, verb, or adjective? Type 0 for noun, 1 for verb, 2 for adjective: \"))\n",
        "    make_sentence(word, part_of_speech)\n",
        "\n",
        "main()\n"
      ],
      "metadata": {
        "id": "o-j08aXImZkh"
      },
      "execution_count": null,
      "outputs": []
    },
    {
      "cell_type": "code",
      "source": [
        "def print_ones_digit(num):\n",
        "    ones_digit = num % 10\n",
        "    print(f\"The ones digit is {ones_digit}\")\n",
        "\n",
        "def main():\n",
        "    num = int(input(\"Enter a number: \"))\n",
        "    print_ones_digit(num)\n",
        "\n",
        "main()\n"
      ],
      "metadata": {
        "id": "haYnonDGmeQn"
      },
      "execution_count": null,
      "outputs": []
    }
  ]
}