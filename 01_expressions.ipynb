{
  "nbformat": 4,
  "nbformat_minor": 0,
  "metadata": {
    "colab": {
      "provenance": [],
      "authorship_tag": "ABX9TyMqZMreX9yX9+WgZ+bv2vYR",
      "include_colab_link": true
    },
    "kernelspec": {
      "name": "python3",
      "display_name": "Python 3"
    },
    "language_info": {
      "name": "python"
    }
  },
  "cells": [
    {
      "cell_type": "markdown",
      "metadata": {
        "id": "view-in-github",
        "colab_type": "text"
      },
      "source": [
        "<a href=\"https://colab.research.google.com/github/misbahjahangir/Assignment_4_colab/blob/main/01_expressions.ipynb\" target=\"_parent\"><img src=\"https://colab.research.google.com/assets/colab-badge.svg\" alt=\"Open In Colab\"/></a>"
      ]
    },
    {
      "cell_type": "code",
      "execution_count": null,
      "metadata": {
        "id": "aYL5Fe7D8e73"
      },
      "outputs": [],
      "source": [
        "import random\n",
        "\n",
        "NUM_SIDES = 6\n",
        "\n",
        "def roll_dice():\n",
        "\n",
        "    die1 = random.randint(1, NUM_SIDES)\n",
        "    die2 = random.randint(1, NUM_SIDES)\n",
        "\n",
        "    total = die1 + die2\n",
        "    print(f\"Die 1: {die1}, Die 2: {die2}, Total: {total} \")\n",
        "\n",
        "def main():\n",
        "\n",
        "        die1 = 10\n",
        "\n",
        "        print(f\"die1 in main() start as {die1}\")\n",
        "\n",
        "        for _ in range(3):\n",
        "            roll_dice()\n",
        "\n",
        "            print(f\"die1 in main() is still {die1}\")\n",
        "\n",
        "main()\n"
      ]
    },
    {
      "cell_type": "code",
      "source": [
        "C = 299792458\n",
        "\n",
        "def main():\n",
        "    mass_in_kg: float = float(input(\"Enter in kilos mass: \"))\n",
        "\n",
        "    energy_in_joules: float = mass_in_kg * (C ** 2)\n",
        "\n",
        "    print(\"e = m * C^2...\")\n",
        "    print(\"m = \"+ str(mass_in_kg) + \"kg\")\n",
        "    print(\"C =\" + str(C) + \"m/s\")\n",
        "\n",
        "    print(str(energy_in_joules) + \" joules of energy!\")\n",
        "\n",
        "main()"
      ],
      "metadata": {
        "id": "3ZuvD_Xy89v3"
      },
      "execution_count": null,
      "outputs": []
    },
    {
      "cell_type": "code",
      "source": [
        "\"\"\"\n",
        "An example program with constants\n",
        "\"\"\"\n",
        "\n",
        "INCHES_IN_FOOT: int = 12  # Conversion factor. There are 12 inches for 1 foot.\n",
        "\n",
        "def main():\n",
        "    feet: float = float(input(\"Enter number of feet: \"))  # Get the number of feet, make sure to cast it to a float!\n",
        "    inches: float = feet * INCHES_IN_FOOT  # Perform the conversion\n",
        "    print(\"That is\", inches, \"inches!\")\n",
        "\n",
        "main()"
      ],
      "metadata": {
        "id": "F9DbfkjOBm6b"
      },
      "execution_count": null,
      "outputs": []
    },
    {
      "cell_type": "code",
      "source": [
        "import math\n",
        "\n",
        "def main():\n",
        "    ab = float(input(\"Enter the length of the side AB:\"))\n",
        "    bc = float(input(\"Enter the length of the side BC:\"))\n",
        "\n",
        "    bc = math.sqrt(ab**2 + ac**2)\n",
        "\n",
        "    print(f\"The length of the hypotenus is {bc}\")\n",
        "\n",
        "main()"
      ],
      "metadata": {
        "id": "zpY_RUQrC71z"
      },
      "execution_count": null,
      "outputs": []
    },
    {
      "cell_type": "code",
      "source": [
        "def main():\n",
        "\n",
        "    dividend: int = int(input(\"Please enter an integer to be divided: \"))\n",
        "    divisor: int = int(input(\"Please enter an integer to divide by: \"))\n",
        "\n",
        "    quotient: int = dividend // divisor\n",
        "    remainder: int = dividend % divisor\n",
        "\n",
        "    print(\"The result of this division is \" + str(quotient) + \" with a remainder of \" + str(remainder))\n",
        "\n",
        "main()"
      ],
      "metadata": {
        "id": "I1xkSXFFDBkb"
      },
      "execution_count": null,
      "outputs": []
    },
    {
      "cell_type": "code",
      "source": [
        "DAYS_IN_YEAR = 365\n",
        "HOURS_IN_DAY = 24\n",
        "MIN_PER_HOUR = 60\n",
        "SEC_PER_MIN = 60\n",
        "\n",
        "def main():\n",
        "\n",
        "    total_seconds= DAYS_IN_YEAR * HOURS_IN_DAY * MIN_PER_HOUR * SEC_PER_MIN\n",
        "\n",
        "    print(f\"there are {total_seconds} seconds in a year\")\n",
        "\n",
        "main()"
      ],
      "metadata": {
        "id": "DaMUI6dPDDIk"
      },
      "execution_count": null,
      "outputs": []
    },
    {
      "cell_type": "code",
      "source": [
        "SENTENCE_START : str = \"Panaversity is fun. I Learned to program and used python to make my\"\n",
        "\n",
        "def main():\n",
        "    adjective : str = input(\"Enter an adjective and press enter:\")\n",
        "    noun : str = input(\"Enter a noun and press enter:\")\n",
        "    verb : str = input(\"Enter a verb and press enter:\")\n",
        "\n",
        "\n",
        "    print(SENTENCE_START + adjective + \" \" + noun + \" \" + verb + \".\")\n",
        "\n",
        "main()"
      ],
      "metadata": {
        "id": "MWR-bsAkD7DY"
      },
      "execution_count": null,
      "outputs": []
    }
  ]
}