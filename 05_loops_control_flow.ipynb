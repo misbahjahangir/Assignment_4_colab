{
  "nbformat": 4,
  "nbformat_minor": 0,
  "metadata": {
    "colab": {
      "provenance": [],
      "authorship_tag": "ABX9TyOHGv+ZxI0+FsrxOpRH6kAt",
      "include_colab_link": true
    },
    "kernelspec": {
      "name": "python3",
      "display_name": "Python 3"
    },
    "language_info": {
      "name": "python"
    }
  },
  "cells": [
    {
      "cell_type": "markdown",
      "metadata": {
        "id": "view-in-github",
        "colab_type": "text"
      },
      "source": [
        "<a href=\"https://colab.research.google.com/github/misbahjahangir/Assignment_4_colab/blob/main/05_loops_control_flow.ipynb\" target=\"_parent\"><img src=\"https://colab.research.google.com/assets/colab-badge.svg\" alt=\"Open In Colab\"/></a>"
      ]
    },
    {
      "cell_type": "code",
      "execution_count": null,
      "metadata": {
        "id": "m4yYMlzhjhjy"
      },
      "outputs": [],
      "source": [
        "import random\n",
        "\n",
        "# Random number between 0 and 99\n",
        "secret_number = random.randint(0, 99)\n",
        "\n",
        "print(\"I am thinking of a number between 0 and 99...\")\n",
        "\n",
        "while True:\n",
        "    guess = int(input(\"Enter a guess: \"))\n",
        "\n",
        "    if guess > secret_number:\n",
        "        print(\"Your guess is too high\\n\")\n",
        "    elif guess < secret_number:\n",
        "        print(\"Your guess is too low\\n\")\n",
        "    else:\n",
        "        print(f\"Congrats! The number was: {secret_number}\")\n",
        "        break\n"
      ]
    },
    {
      "cell_type": "code",
      "source": [
        "# Constant for maximum Fibonacci value\n",
        "MAX_VALUE = 10000\n",
        "\n",
        "# Starting values of the Fibonacci sequence\n",
        "a, b = 0, 1\n",
        "\n",
        "print(\"Fibonacci sequence up to\", MAX_VALUE, \":\")\n",
        "\n",
        "# Loop to generate and print Fibonacci terms\n",
        "while a < MAX_VALUE:\n",
        "    print(a, end=\" \")\n",
        "    a, b = b, a + b  # Move to next term\n"
      ],
      "metadata": {
        "id": "AyRezyG3ju1e"
      },
      "execution_count": null,
      "outputs": []
    },
    {
      "cell_type": "code",
      "source": [
        " #Print first 20 even numbers using a loop\n",
        "\n",
        "print(\"The first 20 even numbers are:\")\n",
        "\n",
        "for i in range(20):\n",
        "    print(i * 2, end=\" \")\n"
      ],
      "metadata": {
        "id": "205L-yMGkoLv"
      },
      "execution_count": null,
      "outputs": []
    },
    {
      "cell_type": "code",
      "source": [
        "# The correct affirmation\n",
        "affirmation = \"I am capable of doing anything I put my mind to.\"\n",
        "\n",
        "# Ask until the user types the correct affirmation\n",
        "while True:\n",
        "    print(f\"Please type the following affirmation: {affirmation}\")\n",
        "    user_input = input()\n",
        "\n",
        "    if user_input == affirmation:\n",
        "        print(\"That's right! :)\")\n",
        "        break\n",
        "    else:\n",
        "        print(\"Hmmm That was not the affirmation.\\n\")\n"
      ],
      "metadata": {
        "id": "5-9cXr_nkrHW"
      },
      "execution_count": null,
      "outputs": []
    },
    {
      "cell_type": "code",
      "source": [
        "for i in range(10):\n",
        "    print(10 - i, end=' ')\n",
        "print(\"Liftoff!\")\n"
      ],
      "metadata": {
        "id": "D2I_63e8k1Aw"
      },
      "execution_count": null,
      "outputs": []
    },
    {
      "cell_type": "code",
      "source": [
        "curr_value = int(input(\"Enter a number: \"))\n",
        "\n",
        "# Jab tak value 100 se choti hai, tab tak loop chalega\n",
        "while curr_value < 100:\n",
        "    curr_value = curr_value * 2\n",
        "    print(curr_value, end=' ')\n"
      ],
      "metadata": {
        "id": "jL5mGJLuk4T2"
      },
      "execution_count": null,
      "outputs": []
    }
  ]
}