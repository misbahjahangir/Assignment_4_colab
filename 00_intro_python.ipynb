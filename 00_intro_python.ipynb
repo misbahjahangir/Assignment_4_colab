{
  "nbformat": 4,
  "nbformat_minor": 0,
  "metadata": {
    "colab": {
      "provenance": [],
      "toc_visible": true,
      "authorship_tag": "ABX9TyOE46J0GoxBdxhHnqmZHZcZ",
      "include_colab_link": true
    },
    "kernelspec": {
      "name": "python3",
      "display_name": "Python 3"
    },
    "language_info": {
      "name": "python"
    }
  },
  "cells": [
    {
      "cell_type": "markdown",
      "metadata": {
        "id": "view-in-github",
        "colab_type": "text"
      },
      "source": [
        "<a href=\"https://colab.research.google.com/github/misbahjahangir/Assignment_4_colab/blob/main/00_intro_python.ipynb\" target=\"_parent\"><img src=\"https://colab.research.google.com/assets/colab-badge.svg\" alt=\"Open In Colab\"/></a>"
      ]
    },
    {
      "cell_type": "code",
      "execution_count": null,
      "metadata": {
        "id": "HhWQkLT13uAJ"
      },
      "outputs": [],
      "source": [
        "\n",
        "def add():\n",
        "    num1=int(input(\"Enter a first number \"))\n",
        "    num2=int(input(\"Enter a second number \"))\n",
        "\n",
        "    result=num1+num2\n",
        "    print(f\"Add Two Number = {result}\")\n",
        "add()"
      ]
    },
    {
      "cell_type": "code",
      "source": [
        "def main():\n",
        "\n",
        "    animal = input(\"/033[1;3m What's your favorite animal___? \\033[0m\")\n",
        "\n",
        "\n",
        "    print(f\"My favorite animal is also {animal}\")\n",
        "\n",
        "if __name__ == \"__main__\":\n",
        "    main()"
      ],
      "metadata": {
        "id": "4kC00vNo4F-j"
      },
      "execution_count": null,
      "outputs": []
    },
    {
      "cell_type": "code",
      "source": [
        "def main():\n",
        "\n",
        "    fahrenheit = float(input(\"\\033[1;3m Enter temperature in Farhrenheit: \\033[0m\"))\n",
        "\n",
        "    celsius = (fahrenheit - 32) * 5.0/9.0\n",
        "\n",
        "    print(f\"temperature: {fahrenheit}F = {celsius}C\")\n",
        "\n",
        "\n",
        "main()"
      ],
      "metadata": {
        "id": "0b4LSTsp7Vme"
      },
      "execution_count": null,
      "outputs": []
    },
    {
      "cell_type": "code",
      "source": [
        "def main():\n",
        "\n",
        "    Anton = 21\n",
        "    Beth = Anton + 6\n",
        "    Chen = Beth + 20\n",
        "    Drew = Chen + Anton\n",
        "    Ethan = Chen\n",
        "\n",
        "    print(f\"Anton is {Anton} years old\")\n",
        "    print(f\"Beth is {Beth} years old\")\n",
        "    print(f\"Chen is {Chen} years old\")\n",
        "    print(f\"Drew is {Drew} years old\")\n",
        "    print(f\"Ethan is {Ethan} years old\")\n",
        "\n",
        "main()"
      ],
      "metadata": {
        "id": "7AjN6LjR7hT5"
      },
      "execution_count": null,
      "outputs": []
    },
    {
      "cell_type": "code",
      "source": [
        "def main():\n",
        "    side1 = float(input(\"Enter the length of side 1: \"))\n",
        "    side2 = float(input(\"Enter the length of side 2: \"))\n",
        "    side3 = float(input(\"Enter the length of side 3: \"))\n",
        "\n",
        "    perimeter = side1 + side2 + side3\n",
        "\n",
        "    print(f\"The primeter of the triangle is {perimeter}\")\n",
        "\n",
        "main()"
      ],
      "metadata": {
        "id": "cXa0RMa67kQA"
      },
      "execution_count": null,
      "outputs": []
    },
    {
      "cell_type": "code",
      "source": [
        "def main():\n",
        "\n",
        "     number = float(input(\"\\033[1;3m Type a number to see it's square: \\033[0m\"))\n",
        "\n",
        "     square = number * number\n",
        "\n",
        "     print(f\"the square of {number} is {square}\")\n",
        "\n",
        "main()"
      ],
      "metadata": {
        "id": "eJmAXvkp7ybu"
      },
      "execution_count": null,
      "outputs": []
    }
  ]
}