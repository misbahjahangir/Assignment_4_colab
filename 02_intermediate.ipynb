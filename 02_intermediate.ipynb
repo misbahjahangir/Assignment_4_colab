{
  "nbformat": 4,
  "nbformat_minor": 0,
  "metadata": {
    "colab": {
      "provenance": [],
      "authorship_tag": "ABX9TyNx2MxVfNy613l0xrVZpOQn",
      "include_colab_link": true
    },
    "kernelspec": {
      "name": "python3",
      "display_name": "Python 3"
    },
    "language_info": {
      "name": "python"
    }
  },
  "cells": [
    {
      "cell_type": "markdown",
      "metadata": {
        "id": "view-in-github",
        "colab_type": "text"
      },
      "source": [
        "<a href=\"https://colab.research.google.com/github/misbahjahangir/Assignment_4_colab/blob/main/02_intermediate.ipynb\" target=\"_parent\"><img src=\"https://colab.research.google.com/assets/colab-badge.svg\" alt=\"Open In Colab\"/></a>"
      ]
    },
    {
      "cell_type": "code",
      "source": [
        "import random\n",
        "\n",
        "# Welcome message\n",
        "print(\"🎮 Welcome to the High-Low Game!\")\n",
        "\n",
        "# Ask user how many rounds they want to play\n",
        "rounds = int(input(\"How many rounds would you like to play? \"))\n",
        "score = 0  # Initialize score\n",
        "\n",
        "# Loop through the number of rounds\n",
        "for round_num in range(1, rounds + 1):\n",
        "    print(f\"\\nRound {round_num}:\")\n",
        "\n",
        "    user_number = random.randint(1, 100)\n",
        "    computer_number = random.randint(1, 100)\n",
        "\n",
        "    print(\"Your number is:\", user_number)\n",
        "\n",
        "    guess = input(\"Do you think your number is higher or lower than the computer's? (Enter 'higher' or 'lower'): \").lower()\n",
        "\n",
        "    if user_number > computer_number:\n",
        "        correct_answer = \"higher\"\n",
        "    elif user_number < computer_number:\n",
        "        correct_answer = \"lower\"\n",
        "    else:\n",
        "        correct_answer = \"equal\"\n",
        "\n",
        "    if guess == correct_answer:\n",
        "        print(\"✅ Correct! You get a point.\")\n",
        "        score += 1\n",
        "    elif correct_answer == \"equal\":\n",
        "        print(\"🤝 It's a tie! No points.\")\n",
        "    else:\n",
        "        print(\"❌ Wrong guess!\")\n",
        "\n",
        "    print(\"Computer's number was:\", computer_number)\n",
        "\n",
        "# Final score\n",
        "print(\"\\n🎉 Game Over! Your final score is:\", score, \"out of\", rounds)"
      ],
      "metadata": {
        "id": "mdBVgcOPplxX"
      },
      "execution_count": null,
      "outputs": []
    },
    {
      "cell_type": "code",
      "source": [
        "import random\n",
        "\n",
        "# Generate random numbers for you and the computer\n",
        "your_number = random.randint(1, 100)\n",
        "computer_number = random.randint(1, 100)\n",
        "\n",
        "# Print both numbers (for testing)\n",
        "print(\"Your number is:\", your_number)\n",
        "print(\"Computer's number is:\", computer_number)\n"
      ],
      "metadata": {
        "id": "b89mRVAwpzAV"
      },
      "execution_count": null,
      "outputs": []
    },
    {
      "cell_type": "code",
      "source": [
        "# Ask the user to guess: is their number higher or lower than the computer's?\n",
        "guess = input(\"Do you think your number is higher or lower than the computer's? (Enter 'higher' or 'lower'): \").lower()\n",
        "\n",
        "# Print the user's guess (for testing)\n",
        "print(\"You guessed:\", guess)"
      ],
      "metadata": {
        "id": "rqch8FaXp8nR"
      },
      "execution_count": null,
      "outputs": []
    },
    {
      "cell_type": "code",
      "source": [
        "import random\n",
        "\n",
        "# Generate numbers\n",
        "your_number = random.randint(1, 100)\n",
        "computer_number = random.randint(1, 100)\n",
        "\n",
        "# Show numbers for testing\n",
        "print(\"Your number is:\", your_number)\n",
        "print(\"Computer's number is:\", computer_number)\n",
        "\n",
        "# Get user guess\n",
        "guess = input(\"Do you think your number is higher or lower than the computer's? (Enter 'higher' or 'lower'): \").lower()\n",
        "\n",
        "# Determine who wins\n",
        "if your_number == computer_number:\n",
        "    print(\"Numbers are equal. Computer wins by default!\")\n",
        "elif guess == \"higher\" and your_number > computer_number:\n",
        "    print(\"✅ Correct! Your number is higher. You win this round!\")\n",
        "elif guess == \"lower\" and your_number < computer_number:\n",
        "    print(\"✅ Correct! Your number is lower. You win this round!\")\n",
        "else:\n",
        "    print(\"❌ Wrong guess! Computer wins this round.\")"
      ],
      "metadata": {
        "id": "z6c6a58DqDD0"
      },
      "execution_count": null,
      "outputs": []
    },
    {
      "cell_type": "code",
      "source": [
        "import random\n",
        "\n",
        "# Constant for number of rounds\n",
        "NUM_ROUNDS = 3\n",
        "\n",
        "# Initialize score\n",
        "score = 0\n",
        "\n",
        "# Start the rounds\n",
        "for round_num in range(1, NUM_ROUNDS + 1):\n",
        "    print(f\"\\nRound {round_num}:\")\n",
        "\n",
        "    # Generate numbers\n",
        "    your_number = random.randint(1, 100)\n",
        "    computer_number = random.randint(1, 100)\n",
        "\n",
        "    # Get user guess\n",
        "    guess = input(\"Do you think your number is higher or lower than the computer's? (Enter 'higher' or 'lower'): \").lower()\n",
        "\n",
        "    # Determine the winner\n",
        "    if your_number == computer_number:\n",
        "        print(\"Numbers are equal. Computer wins by default!\")\n",
        "    elif guess == \"higher\" and your_number > computer_number:\n",
        "        print(\"✅ Correct! Your number is higher. You win this round!\")\n",
        "        score += 1\n",
        "    elif guess == \"lower\" and your_number < computer_number:\n",
        "        print(\"✅ Correct! Your number is lower. You win this round!\")\n",
        "        score += 1\n",
        "    else:\n",
        "        print(\"❌ Wrong guess! Computer wins this round.\")\n",
        "\n",
        "    # Print a blank line for separation between rounds\n",
        "    print()\n",
        "\n",
        "# Final score\n",
        "print(f\"🎉 Game Over! Your final score is: {score} out of {NUM_ROUNDS}\")"
      ],
      "metadata": {
        "id": "va8UgDnvqEwA"
      },
      "execution_count": null,
      "outputs": []
    },
    {
      "cell_type": "code",
      "source": [
        "import random\n",
        "\n",
        "# Initialize player's score\n",
        "score = 0\n",
        "rounds = 5  # You can change the number of rounds\n",
        "\n",
        "print(\"Welcome to the Higher or Lower game!\")\n",
        "print(\"You will be given a number. Guess whether the next number is higher or lower.\")\n",
        "\n",
        "# Generate the first number\n",
        "current_number = random.randint(1, 100)\n",
        "\n",
        "for round_num in range(1, rounds + 1):\n",
        "    print(f\"\\n--- Round {round_num} ---\")\n",
        "    print(f\"Current number: {current_number}\")\n",
        "\n",
        "    # Get user input with validation\n",
        "    while True:\n",
        "        guess = input(\"Will the next number be 'higher' or 'lower'? \").strip().lower()\n",
        "        if guess in ['higher', 'lower']:\n",
        "            break\n",
        "        else:\n",
        "            print(\"Invalid input. Please type 'higher' or 'lower'.\")\n",
        "\n",
        "    # Generate the next number\n",
        "    next_number = random.randint(1, 100)\n",
        "    print(f\"Next number: {next_number}\")\n",
        "\n",
        "    # Determine if the player's guess was correct\n",
        "    if (guess == \"higher\" and next_number > current_number) or \\\n",
        "       (guess == \"lower\" and next_number < current_number):\n",
        "        print(\"You guessed right!\")\n",
        "        score += 1\n",
        "    elif next_number == current_number:\n",
        "        print(\"It's a tie! No points awarded.\")\n",
        "    else:\n",
        "        print(\"You guessed wrong.\")\n",
        "\n",
        "    # Show score after each round\n",
        "    print(f\"Your current score: {score}\")\n",
        "\n",
        "    # Update the current number for the next round\n",
        "    current_number = next_number\n",
        "\n",
        "# Final score\n",
        "print(\"\\nGame over!\")\n",
        "print(f\"Your final score: {score} out of {rounds}\")"
      ],
      "metadata": {
        "id": "_MpkDxP8qKLo"
      },
      "execution_count": null,
      "outputs": []
    },
    {
      "cell_type": "code",
      "source": [
        "# Ask the user for their Earth weight\n",
        "earth_weight = float(input(\"Enter your weight on Earth (in kg): \"))\n",
        "\n",
        "# Calculate Mars weight (37.8% of Earth weight)\n",
        "mars_weight = earth_weight * 0.378\n",
        "\n",
        "# Round to 2 decimal places\n",
        "mars_weight_rounded = round(mars_weight, 2)\n",
        "\n",
        "# Display the result\n",
        "print(f\"Your weight on Mars would be {mars_weight_rounded} kg.\")\n"
      ],
      "metadata": {
        "id": "EuBJ8Z9MqQnY"
      },
      "execution_count": null,
      "outputs": []
    },
    {
      "cell_type": "code",
      "source": [
        "# Dictionary mapping planet names to their gravity percentage compared to Earth\n",
        "gravity_constants = {\n",
        "    \"Mercury\": 0.376,\n",
        "    \"Venus\": 0.889,\n",
        "    \"Mars\": 0.378,\n",
        "    \"Jupiter\": 2.36,\n",
        "    \"Saturn\": 1.081,\n",
        "    \"Uranus\": 0.815,\n",
        "    \"Neptune\": 1.14\n",
        "}\n",
        "\n",
        "# Get user's weight on Earth\n",
        "earth_weight = float(input(\"Enter your weight on Earth (in kg): \"))\n",
        "\n",
        "# Get the planet name\n",
        "planet = input(\"Enter the name of a planet: \")\n",
        "\n",
        "# Calculate weight on that planet\n",
        "if planet in gravity_constants:\n",
        "    planet_weight = earth_weight * gravity_constants[planet]\n",
        "    print(f\"Your weight on {planet} would be {round(planet_weight, 2)} kg.\")\n",
        "else:\n",
        "    print(\"Invalid planet name.\")\n"
      ],
      "metadata": {
        "id": "A10MpZLZqp1B"
      },
      "execution_count": null,
      "outputs": []
    },
    {
      "cell_type": "code",
      "source": [
        "def main():\n",
        "    # Create a list called fruit_list that contains the following fruits:\n",
        "    # 'apple', 'banana', 'orange', 'grape', 'pineapple'.\n",
        "    fruit_list = ['apple', 'banana', 'orange', 'grape', 'pineapple']\n",
        "\n",
        "    # Just printing the list to show the output\n",
        "    print(\"Fruit list:\", fruit_list)\n",
        "\n",
        "main()"
      ],
      "metadata": {
        "id": "Ju2Rr--Jq1As"
      },
      "execution_count": null,
      "outputs": []
    },
    {
      "cell_type": "code",
      "source": [
        "def access_element(my_list, index):\n",
        "    try:\n",
        "        return f\"Element at index {index}: {my_list[index]}\"\n",
        "    except IndexError:\n",
        "        return \"Error: Index out of range.\"\n",
        "\n",
        "\n",
        "def modify_element(my_list, index, new_value):\n",
        "    try:\n",
        "        old_value = my_list[index]\n",
        "        my_list[index] = new_value\n",
        "        return f\"Replaced '{old_value}' with '{new_value}'.\"\n",
        "    except IndexError:\n",
        "        return \"Error: Index out of range.\"\n",
        "\n",
        "\n",
        "def slice_list(my_list, start, end):\n",
        "    try:\n",
        "        # Python handles out-of-range slicing gracefully, but we can still validate\n",
        "        return f\"Sliced list from index {start} to {end}: {my_list[start:end]}\"\n",
        "    except:\n",
        "        return \"Error: Invalid indices.\"\n",
        "\n",
        "\n",
        "def main():\n",
        "    my_list = ['apple', 'banana', 'cherry', 'date', 'elderberry']\n",
        "    print(\"Welcome to the List Game!\")\n",
        "    print(f\"Current List: {my_list}\")\n",
        "\n",
        "    while True:\n",
        "        print(\"\\nChoose an operation:\")\n",
        "        print(\"1. Access an element\")\n",
        "        print(\"2. Modify an element\")\n",
        "        print(\"3. Slice the list\")\n",
        "        print(\"4. Exit\")\n",
        "\n",
        "        choice = input(\"Enter your choice (1-4): \")\n",
        "\n",
        "        if choice == '1':\n",
        "            index = int(input(\"Enter the index you want to access: \"))\n",
        "            print(access_element(my_list, index))\n",
        "\n",
        "        elif choice == '2':\n",
        "            index = int(input(\"Enter the index you want to modify: \"))\n",
        "            new_value = input(\"Enter the new value: \")\n",
        "            print(modify_element(my_list, index, new_value))\n",
        "            print(f\"Updated List: {my_list}\")\n",
        "\n",
        "        elif choice == '3':\n",
        "            start = int(input(\"Enter the start index: \"))\n",
        "            end = int(input(\"Enter the end index: \"))\n",
        "            print(slice_list(my_list, start, end))\n",
        "\n",
        "        elif choice == '4':\n",
        "            print(\"Thanks for playing! Goodbye.\")\n",
        "            break\n",
        "\n",
        "        else:\n",
        "            print(\"Invalid choice. Please enter a number from 1 to 4.\")\n",
        "\n",
        "# Run the game\n",
        "main()"
      ],
      "metadata": {
        "id": "I_OV_dAlq2YY"
      },
      "execution_count": null,
      "outputs": []
    }
  ]
}