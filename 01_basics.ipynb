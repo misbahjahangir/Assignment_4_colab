{
  "nbformat": 4,
  "nbformat_minor": 0,
  "metadata": {
    "colab": {
      "provenance": [],
      "authorship_tag": "ABX9TyNYNJmqcaONDhQWLe44+RLg",
      "include_colab_link": true
    },
    "kernelspec": {
      "name": "python3",
      "display_name": "Python 3"
    },
    "language_info": {
      "name": "python"
    }
  },
  "cells": [
    {
      "cell_type": "markdown",
      "metadata": {
        "id": "view-in-github",
        "colab_type": "text"
      },
      "source": [
        "<a href=\"https://colab.research.google.com/github/misbahjahangir/Assignment_4_colab/blob/main/01_basics.ipynb\" target=\"_parent\"><img src=\"https://colab.research.google.com/assets/colab-badge.svg\" alt=\"Open In Colab\"/></a>"
      ]
    },
    {
      "cell_type": "code",
      "execution_count": null,
      "metadata": {
        "id": "evdEJ22RhMEg"
      },
      "outputs": [],
      "source": [
        "PROMPT = \"What do you want? \"\n",
        "JOKE = (\"Here is a joke for you! Panaversity GPT - Sophia is heading out to the grocery store. \"\n",
        "        \"A programmer tells her: get a liter of milk, and if they have eggs, get 12. \"\n",
        "        \"Sophia returns with 13 liters of milk. The programmer asks why and Sophia replies: 'because they had eggs'\")\n",
        "SORRY = \"Sorry I only tell jokes\"\n",
        "\n",
        "# User input\n",
        "user_input = input(PROMPT)\n",
        "\n",
        "# Check condition\n",
        "if user_input == \"Joke\":\n",
        "    print(JOKE)\n",
        "else:\n",
        "    print(SORRY)"
      ]
    },
    {
      "cell_type": "code",
      "source": [
        "# Ask user for a number\n",
        "curr_value = int(input(\"Enter a number: \"))\n",
        "\n",
        "# Double the number until it is 100 or greater\n",
        "while curr_value < 100:\n",
        "    curr_value = curr_value * 2\n",
        "    print(curr_value)"
      ],
      "metadata": {
        "id": "35I4LlhQh-lk"
      },
      "execution_count": null,
      "outputs": []
    },
    {
      "cell_type": "code",
      "source": [
        "# Countdown from 10 to 1\n",
        "for i in range(10):\n",
        "    print(10 - i, end=\" \")\n",
        "\n",
        "# Print Liftoff!\n",
        "print(\"Liftoff!\")"
      ],
      "metadata": {
        "id": "PUMp0HHLiFMz"
      },
      "execution_count": null,
      "outputs": []
    },
    {
      "cell_type": "code",
      "source": [
        "# Computer picks a random number between 0 and 99\n",
        "secret_number = random.randint(0, 99)\n",
        "\n",
        "print(\"I am thinking of a number between 0 and 99...\")\n",
        "\n",
        "# Start guessing loop\n",
        "while True:\n",
        "    guess = int(input(\"Enter a guess: \"))\n",
        "\n",
        "    if guess > secret_number:\n",
        "        print(\"Your guess is too high\")\n",
        "    elif guess < secret_number:\n",
        "        print(\"Your guess is too low\")\n",
        "    else:\n",
        "        print(\"Congrats! The number was:\", secret_number)\n",
        "        break"
      ],
      "metadata": {
        "id": "chNA-BVkiOC6"
      },
      "execution_count": null,
      "outputs": []
    },
    {
      "cell_type": "code",
      "source": [
        "import random\n",
        "\n",
        "# Print 10 random numbers from 1 to 100\n",
        "for i in range(10):\n",
        "    value = random.randint(1, 100)\n",
        "    print(value, end=\" \")\n"
      ],
      "metadata": {
        "id": "Cw_gHgmdiSlP"
      },
      "execution_count": null,
      "outputs": []
    }
  ]
}