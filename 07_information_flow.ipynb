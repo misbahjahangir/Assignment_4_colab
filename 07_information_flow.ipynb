{
  "nbformat": 4,
  "nbformat_minor": 0,
  "metadata": {
    "colab": {
      "provenance": [],
      "authorship_tag": "ABX9TyMOay8yrM6yVpGv6J2jFJzz",
      "include_colab_link": true
    },
    "kernelspec": {
      "name": "python3",
      "display_name": "Python 3"
    },
    "language_info": {
      "name": "python"
    }
  },
  "cells": [
    {
      "cell_type": "markdown",
      "metadata": {
        "id": "view-in-github",
        "colab_type": "text"
      },
      "source": [
        "<a href=\"https://colab.research.google.com/github/misbahjahangir/Assignment_4_colab/blob/main/07_information_flow.ipynb\" target=\"_parent\"><img src=\"https://colab.research.google.com/assets/colab-badge.svg\" alt=\"Open In Colab\"/></a>"
      ]
    },
    {
      "cell_type": "code",
      "execution_count": null,
      "metadata": {
        "id": "iGD1bHgZm9c6"
      },
      "outputs": [],
      "source": [
        "ADULT_AGE = 18  # Legal adult age in the United States\n",
        "\n",
        "def is_adult(age):\n",
        "    return age >= ADULT_AGE\n",
        "\n",
        "def main():\n",
        "    age = int(input(\"How old is this person?: \"))\n",
        "    print(is_adult(age))\n",
        "main()\n"
      ]
    },
    {
      "cell_type": "code",
      "source": [
        "def greet(name):\n",
        "    print(f\"Greetings {name}!\")\n",
        "\n",
        "def main():\n",
        "    name = input(\"What's your name? \")\n",
        "    greet(name)\n",
        "\n",
        "main()\n"
      ],
      "metadata": {
        "id": "C8Up0xfWnYdT"
      },
      "execution_count": null,
      "outputs": []
    },
    {
      "cell_type": "code",
      "source": [
        "def in_range(n, low, high):\n",
        "    \"\"\" Returns True if n is between low and high, inclusive. \"\"\"\n",
        "    return low <= n <= high\n",
        "print(in_range(5, 1, 10))   # True\n",
        "print(in_range(0, 1, 10))   # False\n",
        "print(in_range(10, 1, 10))  # True\n"
      ],
      "metadata": {
        "id": "51KhgoUOndBd"
      },
      "execution_count": null,
      "outputs": []
    },
    {
      "cell_type": "code",
      "source": [
        "def num_in_stock(fruit):\n",
        "    inventory = {\n",
        "        \"apple\": 50,\n",
        "        \"banana\": 100,\n",
        "        \"pear\": 1000,\n",
        "        \"orange\": 75\n",
        "    }\n",
        "    return inventory.get(fruit.lower(), 0)\n",
        "def main():\n",
        "    fruit = input(\"Enter a fruit: \")\n",
        "    count = num_in_stock(fruit)\n",
        "    if count > 0:\n",
        "        print(\"This fruit is in stock! Here is how many:\")\n",
        "        print(count)\n",
        "    else:\n",
        "        print(\"This fruit is not in stock.\")\n",
        "main()"
      ],
      "metadata": {
        "id": "tku8T_deniAG"
      },
      "execution_count": null,
      "outputs": []
    },
    {
      "cell_type": "code",
      "source": [
        "def get_user_data():\n",
        "    first_name = input(\"What is your first name?: \")\n",
        "    last_name = input(\"What is your last name?: \")\n",
        "    email = input(\"What is your email address?: \")\n",
        "    return first_name, last_name, email  # Tuple packing\n",
        "\n",
        "def main():\n",
        "    user_data = get_user_data()\n",
        "    print(\"Received the following user data:\", user_data)\n",
        "main()\n"
      ],
      "metadata": {
        "id": "7D62mKLxnsPB"
      },
      "execution_count": null,
      "outputs": []
    },
    {
      "cell_type": "code",
      "source": [
        "def subtract_seven(num):\n",
        "    return num - 7\n",
        "\n",
        "def main():\n",
        "    number = int(input(\"Enter a number: \"))\n",
        "    result = subtract_seven(number)\n",
        "    print(\"Result after subtracting 7:\", result)\n",
        "main()\n"
      ],
      "metadata": {
        "id": "Mpp-AmJ4ny1j"
      },
      "execution_count": null,
      "outputs": []
    }
  ]
}