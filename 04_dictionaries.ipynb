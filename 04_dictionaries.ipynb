{
  "nbformat": 4,
  "nbformat_minor": 0,
  "metadata": {
    "colab": {
      "provenance": [],
      "authorship_tag": "ABX9TyMy519E6f0LUzZhwQCZZBMX",
      "include_colab_link": true
    },
    "kernelspec": {
      "name": "python3",
      "display_name": "Python 3"
    },
    "language_info": {
      "name": "python"
    }
  },
  "cells": [
    {
      "cell_type": "markdown",
      "metadata": {
        "id": "view-in-github",
        "colab_type": "text"
      },
      "source": [
        "<a href=\"https://colab.research.google.com/github/misbahjahangir/Assignment_4_colab/blob/main/04_dictionaries.ipynb\" target=\"_parent\"><img src=\"https://colab.research.google.com/assets/colab-badge.svg\" alt=\"Open In Colab\"/></a>"
      ]
    },
    {
      "cell_type": "code",
      "execution_count": null,
      "metadata": {
        "id": "LjxrMvKbbUMq"
      },
      "outputs": [],
      "source": [
        "# Number frequency counter\n",
        "\n",
        "# Dictionary to store counts\n",
        "counts = {}\n",
        "\n",
        "while True:\n",
        "    num = input(\"Enter a number: \")\n",
        "    if num == \"\":\n",
        "        break  # Stop if input is empty\n",
        "    num = int(num)  # Convert input to integer\n",
        "\n",
        "    # Update count in dictionary\n",
        "    if num in counts:\n",
        "        counts[num] += 1\n",
        "    else:\n",
        "        counts[num] = 1\n",
        "\n",
        "# Print the results\n",
        "for number, count in counts.items():\n",
        "    print(f\"{number} appears {count} times.\")\n"
      ]
    },
    {
      "cell_type": "code",
      "source": [
        "# Phonebook using dictionary\n",
        "\n",
        "# Create an empty phonebook dictionary\n",
        "phonebook = {}\n",
        "\n",
        "while True:\n",
        "    name = input(\"Enter a name (or press Enter to stop): \")\n",
        "    if name == \"\":\n",
        "        break  # Stop when input is empty\n",
        "\n",
        "    number = input(f\"Enter the phone number for {name}: \")\n",
        "    phonebook[name] = number  # Store name and number in dictionary\n",
        "\n",
        "# Print the phonebook\n",
        "print(\"\\nPhonebook:\")\n",
        "for name, number in phonebook.items():\n",
        "    print(f\"{name}: {number}\")"
      ],
      "metadata": {
        "id": "WbEtwVs5bmhF"
      },
      "execution_count": null,
      "outputs": []
    },
    {
      "cell_type": "code",
      "source": [
        "# Fruit prices dictionary\n",
        "fruit_prices = {\n",
        "    \"apple\": 10,\n",
        "    \"durian\": 30,\n",
        "    \"jackfruit\": 25.5,\n",
        "    \"kiwi\": 15,\n",
        "    \"rambutan\": 12,\n",
        "    \"mango\": 7\n",
        "}\n",
        "\n",
        "total_cost = 0\n",
        "\n",
        "# Loop through each fruit and ask user how many they want\n",
        "for fruit, price in fruit_prices.items():\n",
        "    quantity = int(input(f\"How many ({fruit}) do you want?: \"))\n",
        "    total_cost += quantity * price\n",
        "\n",
        "print(f\"\\nYour total is ${total_cost}\")\n"
      ],
      "metadata": {
        "id": "I81WWlpsbyWE"
      },
      "execution_count": null,
      "outputs": []
    },
    {
      "cell_type": "code",
      "source": [
        "import hashlib\n",
        "\n",
        "# Function to hash a password using SHA256\n",
        "def hash_password(password):\n",
        "    return hashlib.sha256(password.encode()).hexdigest()\n",
        "\n",
        "# Function to check login credentials\n",
        "def login(email, password_to_check, stored_logins):\n",
        "    # Hash the password entered by the user\n",
        "    hashed_password = hash_password(password_to_check)\n",
        "\n",
        "    # Check if the email exists and the hash matches\n",
        "    if email in stored_logins and stored_logins[email] == hashed_password:\n",
        "        return True\n",
        "    else:\n",
        "        return False\n",
        "\n",
        "# Example stored login data (email: hashed_password)\n",
        "stored_logins = {\n",
        "    \"neha1234@gmail.com\": hash_password(\"mypassword123\"),\n",
        "    \"misbah236@gmail.com\": hash_password(\"securepass456\"),\n",
        "    \"nida654@gmail.com.com\": hash_password(\"ilovecoding789\")\n",
        "}\n",
        "\n",
        "# Example usage:\n",
        "email_input = input(\"Enter your email: \")\n",
        "password_input = input(\"Enter your password: \")\n",
        "\n",
        "if login(email_input, password_input, stored_logins):\n",
        "    print(\"Login successful!\")\n",
        "else:\n",
        "    print(\"Invalid email or password.\")\n"
      ],
      "metadata": {
        "id": "ET-4WSirb5z5"
      },
      "execution_count": null,
      "outputs": []
    }
  ]
}